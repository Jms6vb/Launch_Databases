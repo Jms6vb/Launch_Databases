{
 "cells": [
  {
   "cell_type": "code",
   "execution_count": 1,
   "metadata": {},
   "outputs": [],
   "source": [
    "# !pip install py2neo"
   ]
  },
  {
   "cell_type": "code",
   "execution_count": 2,
   "metadata": {},
   "outputs": [],
   "source": [
    "import py2neo  "
   ]
  },
  {
   "cell_type": "code",
   "execution_count": 8,
   "metadata": {},
   "outputs": [],
   "source": [
    "path = \"bolt://localhost:7687\"\n",
    "auth_info = (\"neo4j\",\"baseball5757\")"
   ]
  },
  {
   "cell_type": "code",
   "execution_count": 9,
   "metadata": {},
   "outputs": [],
   "source": [
    "from py2neo import Graph "
   ]
  },
  {
   "cell_type": "code",
   "execution_count": 14,
   "metadata": {},
   "outputs": [],
   "source": [
    "our_graph = Graph(path, auth=auth_info)"
   ]
  },
  {
   "cell_type": "code",
   "execution_count": 15,
   "metadata": {},
   "outputs": [
    {
     "data": {
      "text/plain": [
       "Graph('bolt://neo4j@localhost:7687')"
      ]
     },
     "execution_count": 15,
     "metadata": {},
     "output_type": "execute_result"
    }
   ],
   "source": [
    "our_graph"
   ]
  },
  {
   "cell_type": "code",
   "execution_count": 13,
   "metadata": {},
   "outputs": [
    {
     "data": {
      "text/html": [
       "(No data)"
      ],
      "text/plain": [
       "(No data)"
      ]
     },
     "execution_count": 13,
     "metadata": {},
     "output_type": "execute_result"
    }
   ],
   "source": [
    "# Add a node to the graph \n",
    "our_graph.run(\"CREATE(:SCHOOL{name:'VT',type:'public'})\")"
   ]
  },
  {
   "cell_type": "code",
   "execution_count": 16,
   "metadata": {},
   "outputs": [
    {
     "data": {
      "text/html": [
       "(No data)"
      ],
      "text/plain": [
       "(No data)"
      ]
     },
     "execution_count": 16,
     "metadata": {},
     "output_type": "execute_result"
    }
   ],
   "source": [
    "# Add another node to the graph \n",
    "our_graph.run(\"CREATE(:SCHOOL{name:'UVA',type:'public'})\")"
   ]
  },
  {
   "cell_type": "code",
   "execution_count": 24,
   "metadata": {},
   "outputs": [
    {
     "data": {
      "text/html": [
       "(No data)"
      ],
      "text/plain": [
       "(No data)"
      ]
     },
     "execution_count": 24,
     "metadata": {},
     "output_type": "execute_result"
    }
   ],
   "source": [
    "# Delete EVERYTHING in the graph\n",
    "our_graph.run(\"MATCH (n) DETACH DELETE n\")"
   ]
  },
  {
   "cell_type": "code",
   "execution_count": 32,
   "metadata": {},
   "outputs": [
    {
     "data": {
      "text/html": [
       "(No data)"
      ],
      "text/plain": [
       "(No data)"
      ]
     },
     "execution_count": 32,
     "metadata": {},
     "output_type": "execute_result"
    }
   ],
   "source": [
    "# Delete EVERYTHING in the graph\n",
    "our_graph.run(\"MATCH (n) DETACH DELETE n\")\n",
    "\n",
    "# Add nodes to the graph \n",
    "our_graph.run(\"CREATE(:SCHOOL{name:'VT',type:'public'})\")\n",
    "our_graph.run(\"CREATE(:SCHOOL{name:'UVA',type:'public'})\")\n",
    "our_graph.run(\"CREATE(:COMPANY{name:'FORGE',type:'501c'})\")\n",
    "\n",
    "# Create a relationship between nodes \n",
    "our_graph.run(\"MATCH (n:SCHOOL{name:'UVA'}), (c:COMPANY{name:'FORGE'}) CREATE (n)-[:partners_with]->(c)\")\n",
    "our_graph.run(\"MATCH (n:SCHOOL{name:'UVA'}), (m:SCHOOL{name:'VT'}) CREATE (n)-[:rivals_with]->(m)\")\n",
    "our_graph.run(\"MATCH (n:SCHOOL{name:'UVA'}), (m:SCHOOL{name:'VT'}) CREATE (m)-[:rivals_with]->(n)\")\n",
    "\n",
    "# Add information to the relationships \n",
    "our_graph.run(\"MATCH (n:SCHOOL{name:'UVA'}) SET n.founded_in = 1819\")\n",
    "\n",
    "# Add founded_in field to the UVA node and the VT node \n",
    "our_graph.run(\"MATCH (n:SCHOOL{name:'UVA'}) SET n.founded_in = 1819\")\n",
    "our_graph.run(\"MATCH (n:SCHOOL{name:'VT'}) SET n.founded_in = 1872\")\n",
    "\n",
    "# Remove a property from the FORGE node \n",
    "our_graph.run(\"MATCH (n:COMPANY{name:'FORGE'}) REMOVE n.type\")"
   ]
  },
  {
   "cell_type": "code",
   "execution_count": 33,
   "metadata": {},
   "outputs": [],
   "source": [
    "from py2neo import Node, Relationship \n",
    "from py2neo.matching import *\n",
    "nodes = NodeMatcher(our_graph)"
   ]
  },
  {
   "cell_type": "code",
   "execution_count": 45,
   "metadata": {},
   "outputs": [],
   "source": [
    "# Obtain node references \n",
    "forge = nodes.match(name=\"FORGE\").first()\n",
    "uva = nodes.match(name=\"UVA\").first()\n",
    "\n",
    "# Create a Kaleigh node \n",
    "kaleigh = Node(\"Person\", name='Kaleigh Watson', coworkers=['Andy','Amanda','Daniel'])\n",
    "our_graph.create(kaleigh)\n",
    "\n",
    "# Define relationships\n",
    "WorksFor = Relationship.type('WORKS_FOR')\n",
    "Attended = Relationship.type('ATTENDED')\n",
    "\n",
    "# Set relationships between kaleigh and forge and uva\n",
    "our_graph.create(WorksFor(kaleigh, forge))\n",
    "our_graph.create(Attended(kaleigh, uva))"
   ]
  },
  {
   "cell_type": "markdown",
   "metadata": {},
   "source": [
    "Our Project"
   ]
  },
  {
   "cell_type": "code",
   "execution_count": 118,
   "metadata": {},
   "outputs": [],
   "source": [
    "# Import libraries of interest \n",
    "import py2neo  \n",
    "from py2neo import Graph \n",
    "import pandas as pd \n",
    "import numpy as np \n",
    "from py2neo import Node, Relationship \n",
    "from py2neo.matching import *"
   ]
  },
  {
   "cell_type": "code",
   "execution_count": 119,
   "metadata": {},
   "outputs": [],
   "source": [
    "# Set up path and auth info \n",
    "path = \"bolt://localhost:7687\"\n",
    "auth_info = (\"neo4j\",\"launch\")\n",
    "\n",
    "courses_path = \"C:/Users/Zachery Key/Desktop/Forge/COURSES.csv\"\n",
    "school_path = \"C:/Users/Zachery Key/Desktop/Forge/SCHOOLS.csv\"\n",
    "prof_path = \"C:/Users/Zachery Key/Desktop/Forge/PROFS.csv\"\n",
    "city_path = \"C:/Users/Zachery Key/Desktop/Forge/CITIES.csv\"\n",
    "student_path = \"C:/Users/Zachery Key/Desktop/Forge/STUDENTS.csv\""
   ]
  },
  {
   "cell_type": "code",
   "execution_count": 120,
   "metadata": {},
   "outputs": [],
   "source": [
    "# Initialize graph object in neo4j\n",
    "our_graph = Graph(path, auth=auth_info)\n",
    "# Initialze node matcher object \n",
    "nodes = NodeMatcher(our_graph)"
   ]
  },
  {
   "cell_type": "code",
   "execution_count": 129,
   "metadata": {},
   "outputs": [],
   "source": [
    "# Import data \n",
    "COURSE = pd.read_csv(courses_path)\n",
    "SCHOOL = pd.read_csv(school_path)\n",
    "PROF = pd.read_csv(prof_path, encoding= 'unicode_escape')\n",
    "CITY = pd.read_csv(city_path)\n",
    "STUDENT = pd.read_csv(student_path)"
   ]
  },
  {
   "cell_type": "code",
   "execution_count": 148,
   "metadata": {},
   "outputs": [
    {
     "data": {
      "text/html": [
       "(No data)"
      ],
      "text/plain": [
       "(No data)"
      ]
     },
     "execution_count": 148,
     "metadata": {},
     "output_type": "execute_result"
    }
   ],
   "source": [
    "# Delete EVERYTHING in the graph\n",
    "our_graph.run(\"MATCH (n) DETACH DELETE n\")"
   ]
  },
  {
   "cell_type": "code",
   "execution_count": 149,
   "metadata": {},
   "outputs": [],
   "source": [
    "# Professor \n",
    "for i in range(len(PROF)):\n",
    "    row = PROF.iloc[i]\n",
    "    person = Node(\"Professor\",\n",
    "                  prof_id = int(row['Prof_ID\\xa0']),\n",
    "                  name = row['Professor Name'], \n",
    "                  tenure = bool(row['Tenure']),\n",
    "                  school_id = row['School_ID'],\n",
    "                  city_id = int(row['City_ID'])\n",
    "                 )\n",
    "    our_graph.create(person)\n",
    "\n",
    "# Schools \n",
    "for i in range(len(SCHOOL)):\n",
    "    row = SCHOOL.iloc[i]\n",
    "    school = Node(\"School\",\n",
    "                  name = row['name'],\n",
    "                  size = int(row['size ']),\n",
    "                  year_founded = int(row['year_founded']),\n",
    "                  num_majors = int(row['num_majors']),\n",
    "                  dean_chair = row['dean_chair'],\n",
    "                  school_id = row['school_ID']\n",
    "                 )\n",
    "    our_graph.create(school)\n",
    "\n",
    "# Courses\n",
    "for i in range(len(COURSE)):\n",
    "    row = COURSE.iloc[i]\n",
    "    courses = Node(\n",
    "                \"Course\", \n",
    "                name = row['COURSE ID '],\n",
    "                credits = int(row['CREDITS']),\n",
    "                school_id = row['SCHOOL_ID'],\n",
    "                prof_id = int(row['PROF_ID'])\n",
    "                 )\n",
    "    our_graph.create(courses)\n",
    "\n",
    "# Students\n",
    "for i in range(len(STUDENT)):\n",
    "    row = STUDENT.iloc[i]\n",
    "    student = Node(\n",
    "                 \"Student\", \n",
    "                 name = row['first_name'] + ' ' + row['last_name'],\n",
    "                 first_name = row['first_name'],\n",
    "                 last_name = row['last_name'],\n",
    "                 birthdate = row['dob'],\n",
    "                 computing_id = row['computing_id'], \n",
    "                 school_id = row['school_id'],\n",
    "                 city_id = int(row['city_id']),\n",
    "                 fav_course = row['fav_course']\n",
    "                 )\n",
    "    our_graph.create(student)\n",
    "\n",
    "CITY['pop_size'] = CITY.pop_size.str.replace(',','')\n",
    "\n",
    "# City\n",
    "for i in range(len(CITY)):\n",
    "    row = CITY.iloc[i]\n",
    "    city = Node(\"City\",\n",
    "                city_id = int(row['city_id']),\n",
    "                name = row['city'],\n",
    "                state = row['state'],\n",
    "                football_team = row['football'],\n",
    "                basketball_team = row['basketball'],\n",
    "                hockey_team = row['hockey'],\n",
    "                baseball_team = row['baseball'],\n",
    "                population = int(row['pop_size']),\n",
    "                zipcode = int(row['zipcode'])\n",
    "                 )\n",
    "    our_graph.create(city)"
   ]
  },
  {
   "cell_type": "code",
   "execution_count": 150,
   "metadata": {},
   "outputs": [
    {
     "data": {
      "text/html": [
       "(No data)"
      ],
      "text/plain": [
       "(No data)"
      ]
     },
     "execution_count": 150,
     "metadata": {},
     "output_type": "execute_result"
    }
   ],
   "source": [
    "# Create relationship between all students and schools \n",
    "our_graph.run(\"MATCH (n:Student), (m:School) WHERE n.school_id = m.school_id CREATE (n)-[:ATTENDED]->(m)\")\n",
    "\n",
    "# Create relationship between students and favorite courses \n",
    "our_graph.run(\"MATCH (n:Student), (m:Course) WHERE n.fav_course = m.name CREATE (n)-[:FAVORITE_COURSE_IS]->(m)\")\n",
    "\n",
    "# Create relationship between professors and courses \n",
    "our_graph.run(\"MATCH (n:Professor), (m:Course) WHERE n.prof_id = m.prof_id CREATE (n)-[:TEACHES]->(m)\")"
   ]
  },
  {
   "cell_type": "code",
   "execution_count": 147,
   "metadata": {},
   "outputs": [
    {
     "data": {
      "text/html": [
       "(No data)"
      ],
      "text/plain": [
       "(No data)"
      ]
     },
     "execution_count": 147,
     "metadata": {},
     "output_type": "execute_result"
    }
   ],
   "source": []
  }
 ],
 "metadata": {
  "kernelspec": {
   "display_name": "Python 3",
   "language": "python",
   "name": "python3"
  },
  "language_info": {
   "codemirror_mode": {
    "name": "ipython",
    "version": 3
   },
   "file_extension": ".py",
   "mimetype": "text/x-python",
   "name": "python",
   "nbconvert_exporter": "python",
   "pygments_lexer": "ipython3",
   "version": "3.8.5"
  }
 },
 "nbformat": 4,
 "nbformat_minor": 4
}
