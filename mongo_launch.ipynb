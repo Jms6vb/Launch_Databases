{
 "cells": [
  {
   "cell_type": "code",
   "execution_count": 1,
   "metadata": {},
   "outputs": [],
   "source": [
    "import pymongo\n",
    "import pandas as pd\n",
    "from pymongo import MongoClient"
   ]
  },
  {
   "cell_type": "code",
   "execution_count": 2,
   "metadata": {},
   "outputs": [],
   "source": [
    "client = MongoClient('localhost', 27017)"
   ]
  },
  {
   "cell_type": "code",
   "execution_count": 3,
   "metadata": {},
   "outputs": [],
   "source": [
    "db = client.launch_week_2"
   ]
  },
  {
   "cell_type": "code",
   "execution_count": 69,
   "metadata": {},
   "outputs": [],
   "source": [
    "city = pd.read_csv('CITIES.csv')\n",
    "course = pd.read_csv('COURSES.csv')\n",
    "prof = pd.read_csv('PROFS.csv', encoding= 'unicode_escape')\n",
    "school = pd.read_csv('SCHOOLS.csv')\n",
    "student = pd.read_csv('STUDENTS.csv')"
   ]
  },
  {
   "cell_type": "code",
   "execution_count": 70,
   "metadata": {},
   "outputs": [
    {
     "data": {
      "text/html": [
       "<div>\n",
       "<style scoped>\n",
       "    .dataframe tbody tr th:only-of-type {\n",
       "        vertical-align: middle;\n",
       "    }\n",
       "\n",
       "    .dataframe tbody tr th {\n",
       "        vertical-align: top;\n",
       "    }\n",
       "\n",
       "    .dataframe thead th {\n",
       "        text-align: right;\n",
       "    }\n",
       "</style>\n",
       "<table border=\"1\" class=\"dataframe\">\n",
       "  <thead>\n",
       "    <tr style=\"text-align: right;\">\n",
       "      <th></th>\n",
       "      <th>school_id</th>\n",
       "      <th>name</th>\n",
       "      <th>size</th>\n",
       "      <th>year_founded</th>\n",
       "      <th>dean_chair</th>\n",
       "      <th>num_majors</th>\n",
       "    </tr>\n",
       "  </thead>\n",
       "  <tbody>\n",
       "    <tr>\n",
       "      <th>0</th>\n",
       "      <td>SEAS</td>\n",
       "      <td>School of Engineering and Applied Science</td>\n",
       "      <td>3589</td>\n",
       "      <td>1901</td>\n",
       "      <td>Rodil</td>\n",
       "      <td>9</td>\n",
       "    </tr>\n",
       "    <tr>\n",
       "      <th>1</th>\n",
       "      <td>CAS</td>\n",
       "      <td>College of Arts and Sciences</td>\n",
       "      <td>7301</td>\n",
       "      <td>1872</td>\n",
       "      <td>Alvarado</td>\n",
       "      <td>152</td>\n",
       "    </tr>\n",
       "    <tr>\n",
       "      <th>2</th>\n",
       "      <td>LAW</td>\n",
       "      <td>Law School</td>\n",
       "      <td>832</td>\n",
       "      <td>1821</td>\n",
       "      <td>Yashtz</td>\n",
       "      <td>4</td>\n",
       "    </tr>\n",
       "    <tr>\n",
       "      <th>3</th>\n",
       "      <td>BUS</td>\n",
       "      <td>Darden School of Business</td>\n",
       "      <td>122</td>\n",
       "      <td>1971</td>\n",
       "      <td>Sialsd</td>\n",
       "      <td>3</td>\n",
       "    </tr>\n",
       "    <tr>\n",
       "      <th>4</th>\n",
       "      <td>COM</td>\n",
       "      <td>Mcintire School of Commerce</td>\n",
       "      <td>357</td>\n",
       "      <td>1923</td>\n",
       "      <td>Najir</td>\n",
       "      <td>11</td>\n",
       "    </tr>\n",
       "    <tr>\n",
       "      <th>5</th>\n",
       "      <td>NUR</td>\n",
       "      <td>School of Nursing</td>\n",
       "      <td>1201</td>\n",
       "      <td>1900</td>\n",
       "      <td>Mcdonnel</td>\n",
       "      <td>17</td>\n",
       "    </tr>\n",
       "    <tr>\n",
       "      <th>6</th>\n",
       "      <td>CPS</td>\n",
       "      <td>School of Continuing and Professional Studies</td>\n",
       "      <td>11</td>\n",
       "      <td>2001</td>\n",
       "      <td>Arrington</td>\n",
       "      <td>2</td>\n",
       "    </tr>\n",
       "    <tr>\n",
       "      <th>7</th>\n",
       "      <td>ARCH</td>\n",
       "      <td>School of Architecture</td>\n",
       "      <td>123</td>\n",
       "      <td>1989</td>\n",
       "      <td>Kim</td>\n",
       "      <td>5</td>\n",
       "    </tr>\n",
       "  </tbody>\n",
       "</table>\n",
       "</div>"
      ],
      "text/plain": [
       "  school_id                                            name  size   \\\n",
       "0      SEAS       School of Engineering and Applied Science   3589   \n",
       "1       CAS                   College of Arts and Sciences    7301   \n",
       "2       LAW                                     Law School     832   \n",
       "3       BUS                       Darden School of Business    122   \n",
       "4       COM                    Mcintire School of Commerce     357   \n",
       "5       NUR                              School of Nursing    1201   \n",
       "6       CPS  School of Continuing and Professional Studies      11   \n",
       "7      ARCH                         School of Architecture     123   \n",
       "\n",
       "   year_founded dean_chair  num_majors  \n",
       "0          1901     Rodil            9  \n",
       "1          1872  Alvarado          152  \n",
       "2          1821    Yashtz            4  \n",
       "3          1971     Sialsd           3  \n",
       "4          1923      Najir          11  \n",
       "5          1900   Mcdonnel          17  \n",
       "6          2001  Arrington           2  \n",
       "7          1989        Kim           5  "
      ]
     },
     "execution_count": 70,
     "metadata": {},
     "output_type": "execute_result"
    }
   ],
   "source": [
    "school"
   ]
  },
  {
   "cell_type": "code",
   "execution_count": 9,
   "metadata": {},
   "outputs": [],
   "source": [
    "collection = db.students"
   ]
  },
  {
   "cell_type": "code",
   "execution_count": 29,
   "metadata": {},
   "outputs": [
    {
     "name": "stdout",
     "output_type": "stream",
     "text": [
      "{'city_id': 3, 'zipcode': 15238, 'city': 'Pittsburgh', 'state': 'Pennsylvania', 'football': 'Pittsburgh Steelers', 'hockey': 'Pittsburgh Penguins', 'baseball': 'Pittsburgh Pirates', 'basketball': 'Pittsburgh Panthers', 'pop_size': '300,286'}\n"
     ]
    }
   ],
   "source": [
    "our_city = city[city['city_id'] == 3]\n",
    "\n",
    "temp_city= our_city.iloc[0]\n",
    "city_dict = {}\n",
    "for b in range(len(temp_city)):\n",
    "    city_dict[temp_city.index[b]] = temp_city[b]\n",
    "print(city_dict)\n",
    "\n",
    "# for k in range(len(city)):\n",
    "#     temp_city = city.iloc[k]\n",
    "#     print(temp_city)"
   ]
  },
  {
   "cell_type": "code",
   "execution_count": null,
   "metadata": {},
   "outputs": [],
   "source": [
    "#def makeDict(df, index):\n",
    "    "
   ]
  },
  {
   "cell_type": "code",
   "execution_count": 71,
   "metadata": {},
   "outputs": [
    {
     "name": "stdout",
     "output_type": "stream",
     "text": [
      "{'computing_id': 'csksnj', 'first_name': 'Courtney', 'last_name': 'Kennedy', 'dob': '10/22/2000', 'city_id': {'city_id': 3, 'zipcode': 15238, 'city': 'Pittsburgh', 'state': 'Pennsylvania', 'football': 'Pittsburgh Steelers', 'hockey': 'Pittsburgh Penguins', 'baseball': 'Pittsburgh Pirates', 'basketball': 'Pittsburgh Panthers', 'pop_size': '300,286'}, 'course_id': {'course_id': 'SYS 2202', 'school_id': 'SEAS', 'dept': 'SYS ', 'credits': 3, 'prof_id': 7}, 'school_id': {'school_id': 'SEAS', 'name': 'School of Engineering and Applied Science', 'size ': 3589, 'year_founded': 1901, 'dean_chair': 'Rodil ', 'num_majors': 9}}\n",
      "\n",
      "\n",
      "\n",
      "\n",
      "\n",
      "{'computing_id': 'ztk2qv', 'first_name': 'Zachery', 'last_name': 'Key', 'dob': '6/20/2000', 'city_id': {'city_id': 4, 'zipcode': 24523, 'city': 'Bedford', 'state': 'Virginia', 'football': 'Liberty Minutemen', 'hockey': 'Bedford Beds', 'baseball': 'Bedford Bases', 'basketball': 'Bedford Baskets', 'pop_size': '6,562'}, 'course_id': {'course_id': 'ARCH 3200', 'school_id': 'ARCH', 'dept': 'ARCH ', 'credits': 3, 'prof_id': 11}, 'school_id': {'school_id': 'SEAS', 'name': 'School of Engineering and Applied Science', 'size ': 3589, 'year_founded': 1901, 'dean_chair': 'Rodil ', 'num_majors': 9}}\n",
      "\n",
      "\n",
      "\n",
      "\n",
      "\n",
      "{'computing_id': 'jms6vb', 'first_name': 'Jon Marco', 'last_name': 'Sanchez', 'dob': '4/20/1969', 'city_id': {'city_id': 2, 'zipcode': 24014, 'city': 'Roanoke', 'state': 'Virginia', 'football': 'Roanoke Steam', 'hockey': 'Roanoke Rail Yard Dawgs', 'baseball': 'Salem Red Sox', 'basketball': 'Roanoke Maroons', 'pop_size': '99,229'}, 'course_id': {'course_id': 'SYS 3034', 'school_id': 'SEAS', 'dept': 'SYS ', 'credits': 3, 'prof_id': 5}, 'school_id': {'school_id': 'CAS', 'name': 'College of Arts and Sciences ', 'size ': 7301, 'year_founded': 1872, 'dean_chair': 'Alvarado ', 'num_majors': 152}}\n",
      "\n",
      "\n",
      "\n",
      "\n",
      "\n",
      "{'computing_id': 'ac9kf', 'first_name': 'Arwen', 'last_name': 'Chandler', 'dob': '3/12/2002', 'city_id': {'city_id': 1, 'zipcode': 22031, 'city': 'Fairfax', 'state': 'Virginia', 'football': 'Fairfax Rebels', 'hockey': 'Fairfax Narwhals', 'baseball': 'Burke Bulldogs', 'basketball': 'Fairfax Foxes', 'pop_size': '23,531'}, 'course_id': {'course_id': 'KINE 1010', 'school_id': 'NUR', 'dept': 'KINE', 'credits': 1, 'prof_id': 6}, 'school_id': {'school_id': 'CAS', 'name': 'College of Arts and Sciences ', 'size ': 7301, 'year_founded': 1872, 'dean_chair': 'Alvarado ', 'num_majors': 152}}\n",
      "\n",
      "\n",
      "\n",
      "\n",
      "\n",
      "{'computing_id': 'tes2fl', 'first_name': 'Taylor', 'last_name': 'Swift', 'dob': '12/13/1989', 'city_id': {'city_id': 10, 'zipcode': 94016, 'city': 'San Francisco', 'state': 'California', 'football': 'San Francisco 49ers', 'hockey': 'San Francisco Seals', 'baseball': 'San Francisco Giants', 'basketball': 'Golden State Warriors', 'pop_size': '874,961'}, 'course_id': {'course_id': 'CS 2150', 'school_id': 'SEAS', 'dept': 'CS', 'credits': 3, 'prof_id': 2}, 'school_id': {'school_id': 'CAS', 'name': 'College of Arts and Sciences ', 'size ': 7301, 'year_founded': 1872, 'dean_chair': 'Alvarado ', 'num_majors': 152}}\n",
      "\n",
      "\n",
      "\n",
      "\n",
      "\n",
      "{'computing_id': 'jfe9fu', 'first_name': 'Joe', 'last_name': 'Exotic', 'dob': '3/5/1963', 'city_id': {'city_id': 3, 'zipcode': 15238, 'city': 'Pittsburgh', 'state': 'Pennsylvania', 'football': 'Pittsburgh Steelers', 'hockey': 'Pittsburgh Penguins', 'baseball': 'Pittsburgh Pirates', 'basketball': 'Pittsburgh Panthers', 'pop_size': '300,286'}, 'course_id': {'course_id': 'ENWR 1000', 'school_id': 'CAS', 'dept': 'ENWR', 'credits': 3, 'prof_id': 3}, 'school_id': {'school_id': 'COM', 'name': 'Mcintire School of Commerce ', 'size ': 357, 'year_founded': 1923, 'dean_chair': 'Najir', 'num_majors': 11}}\n",
      "\n",
      "\n",
      "\n",
      "\n",
      "\n",
      "{'computing_id': 'ggf2re', 'first_name': 'Guy', 'last_name': 'Fieri', 'dob': '1/22/1968', 'city_id': {'city_id': 7, 'zipcode': 60007, 'city': 'Chicago', 'state': 'Illinois', 'football': 'Chicago Bears', 'hockey': 'Chicago Blackhawks', 'baseball': 'Chicago Cubs', 'basketball': 'Chicago Bulls', 'pop_size': '2,693,976'}, 'course_id': {'course_id': 'SYS 2202', 'school_id': 'SEAS', 'dept': 'SYS ', 'credits': 3, 'prof_id': 7}, 'school_id': {'school_id': 'COM', 'name': 'Mcintire School of Commerce ', 'size ': 357, 'year_founded': 1923, 'dean_chair': 'Najir', 'num_majors': 11}}\n",
      "\n",
      "\n",
      "\n",
      "\n",
      "\n",
      "{'computing_id': 'jeb1cu', 'first_name': 'Justin', 'last_name': 'Bieber', 'dob': '3/1/1994', 'city_id': {'city_id': 13, 'zipcode': 19019, 'city': 'Philadelphia', 'state': 'Pennsylvania', 'football': 'Philadelphia Eagles', 'hockey': 'Philadelphia Flyers', 'baseball': 'Philadelphia Phillies', 'basketball': 'Philadelphia 76ers', 'pop_size': '1,526,006'}, 'course_id': {'course_id': 'SYS 2001', 'school_id': 'SEAS', 'dept': 'SYS', 'credits': 3, 'prof_id': 1}, 'school_id': {'school_id': 'NUR', 'name': 'School of Nursing ', 'size ': 1201, 'year_founded': 1900, 'dean_chair': 'Mcdonnel', 'num_majors': 17}}\n",
      "\n",
      "\n",
      "\n",
      "\n",
      "\n",
      "{'computing_id': 'tej9ab', 'first_name': 'Thomas', 'last_name': 'Jefferson', 'dob': '4/13/1743', 'city_id': {'city_id': 3, 'zipcode': 15238, 'city': 'Pittsburgh', 'state': 'Pennsylvania', 'football': 'Pittsburgh Steelers', 'hockey': 'Pittsburgh Penguins', 'baseball': 'Pittsburgh Pirates', 'basketball': 'Pittsburgh Panthers', 'pop_size': '300,286'}, 'course_id': {'course_id': 'CS 2150', 'school_id': 'SEAS', 'dept': 'CS', 'credits': 3, 'prof_id': 2}, 'school_id': {'school_id': 'LAW', 'name': 'Law School ', 'size ': 832, 'year_founded': 1821, 'dean_chair': 'Yashtz ', 'num_majors': 4}}\n",
      "\n",
      "\n",
      "\n",
      "\n",
      "\n"
     ]
    }
   ],
   "source": [
    "for i in range(len(student)):\n",
    "    temp_stud = student.iloc[i]\n",
    "    student_dict = {}\n",
    "    for j in range(len(temp_stud)):\n",
    "        if temp_stud.index[j] == 'city_id':\n",
    "            our_city = city[city['city_id'] == temp_stud[j]].iloc[0]\n",
    "            city_dict = {}\n",
    "            for b in range(len(our_city)):\n",
    "                city_dict[our_city.index[b]] = our_city[b]\n",
    "            student_dict[temp_stud.index[j]] = city_dict\n",
    "        elif temp_stud.index[j] == 'course_id':\n",
    "            our_course = course[course['course_id'] == temp_stud[j]].iloc[0]\n",
    "            course_dict = {}\n",
    "            for c in range(len(our_course)):\n",
    "                course_dict[our_course.index[c]] = our_course[c]\n",
    "            student_dict[temp_stud.index[j]] = course_dict\n",
    "        elif temp_stud.index[j] == 'school_id':\n",
    "            our_school = school[school['school_id'] == temp_stud[j]].iloc[0]\n",
    "            school_dict = {}\n",
    "            for d in range(len(our_school)):\n",
    "                school_dict[our_school.index[d]] = our_school[d]\n",
    "            student_dict[temp_stud.index[j]] = school_dict\n",
    "        else:\n",
    "            student_dict[temp_stud.index[j]] = temp_stud[j]\n",
    "    print(student_dict)\n",
    "    print(\"\\n\\n\\n\\n\")"
   ]
  }
 ],
 "metadata": {
  "kernelspec": {
   "display_name": "Python 3",
   "language": "python",
   "name": "python3"
  },
  "language_info": {
   "codemirror_mode": {
    "name": "ipython",
    "version": 3
   },
   "file_extension": ".py",
   "mimetype": "text/x-python",
   "name": "python",
   "nbconvert_exporter": "python",
   "pygments_lexer": "ipython3",
   "version": "3.8.3"
  }
 },
 "nbformat": 4,
 "nbformat_minor": 4
}
