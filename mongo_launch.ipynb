{
 "cells": [
  {
   "cell_type": "code",
   "execution_count": 325,
   "metadata": {},
   "outputs": [],
   "source": [
    "import pymongo\n",
    "import pandas as pd\n",
    "from pymongo import MongoClient"
   ]
  },
  {
   "cell_type": "code",
   "execution_count": 326,
   "metadata": {},
   "outputs": [],
   "source": [
    "client = MongoClient('localhost', 27017)"
   ]
  },
  {
   "cell_type": "code",
   "execution_count": 336,
   "metadata": {},
   "outputs": [
    {
     "data": {
      "text/plain": [
       "MongoClient(host=['localhost:27017'], document_class=dict, tz_aware=False, connect=True)"
      ]
     },
     "execution_count": 336,
     "metadata": {},
     "output_type": "execute_result"
    }
   ],
   "source": [
    "client"
   ]
  },
  {
   "cell_type": "code",
   "execution_count": 337,
   "metadata": {},
   "outputs": [],
   "source": [
    "db = client.launch_week_2"
   ]
  },
  {
   "cell_type": "code",
   "execution_count": 338,
   "metadata": {},
   "outputs": [
    {
     "data": {
      "text/plain": [
       "Database(MongoClient(host=['localhost:27017'], document_class=dict, tz_aware=False, connect=True), 'launch_week_2')"
      ]
     },
     "execution_count": 338,
     "metadata": {},
     "output_type": "execute_result"
    }
   ],
   "source": [
    "db"
   ]
  },
  {
   "cell_type": "code",
   "execution_count": 328,
   "metadata": {},
   "outputs": [],
   "source": [
    "city = pd.read_csv('CITIES.csv')\n",
    "course = pd.read_csv('COURSES.csv')\n",
    "prof = pd.read_csv('PROFS.csv')\n",
    "school = pd.read_csv('SCHOOLS.csv')\n",
    "student = pd.read_csv('STUDENTS.csv')"
   ]
  },
  {
   "cell_type": "code",
   "execution_count": 329,
   "metadata": {},
   "outputs": [
    {
     "data": {
      "text/html": [
       "<div>\n",
       "<style scoped>\n",
       "    .dataframe tbody tr th:only-of-type {\n",
       "        vertical-align: middle;\n",
       "    }\n",
       "\n",
       "    .dataframe tbody tr th {\n",
       "        vertical-align: top;\n",
       "    }\n",
       "\n",
       "    .dataframe thead th {\n",
       "        text-align: right;\n",
       "    }\n",
       "</style>\n",
       "<table border=\"1\" class=\"dataframe\">\n",
       "  <thead>\n",
       "    <tr style=\"text-align: right;\">\n",
       "      <th></th>\n",
       "      <th>school_id</th>\n",
       "      <th>name</th>\n",
       "      <th>size</th>\n",
       "      <th>year_founded</th>\n",
       "      <th>dean_chair</th>\n",
       "      <th>num_majors</th>\n",
       "    </tr>\n",
       "  </thead>\n",
       "  <tbody>\n",
       "    <tr>\n",
       "      <td>0</td>\n",
       "      <td>SEAS</td>\n",
       "      <td>School of Engineering and Applied Science</td>\n",
       "      <td>3589</td>\n",
       "      <td>1901</td>\n",
       "      <td>Rodil</td>\n",
       "      <td>9</td>\n",
       "    </tr>\n",
       "    <tr>\n",
       "      <td>1</td>\n",
       "      <td>CAS</td>\n",
       "      <td>College of Arts and Sciences</td>\n",
       "      <td>7301</td>\n",
       "      <td>1872</td>\n",
       "      <td>Alvarado</td>\n",
       "      <td>152</td>\n",
       "    </tr>\n",
       "    <tr>\n",
       "      <td>2</td>\n",
       "      <td>LAW</td>\n",
       "      <td>Law School</td>\n",
       "      <td>832</td>\n",
       "      <td>1821</td>\n",
       "      <td>Yashtz</td>\n",
       "      <td>4</td>\n",
       "    </tr>\n",
       "    <tr>\n",
       "      <td>3</td>\n",
       "      <td>BUS</td>\n",
       "      <td>Darden School of Business</td>\n",
       "      <td>122</td>\n",
       "      <td>1971</td>\n",
       "      <td>Sialsd</td>\n",
       "      <td>3</td>\n",
       "    </tr>\n",
       "    <tr>\n",
       "      <td>4</td>\n",
       "      <td>COM</td>\n",
       "      <td>Mcintire School of Commerce</td>\n",
       "      <td>357</td>\n",
       "      <td>1923</td>\n",
       "      <td>Najir</td>\n",
       "      <td>11</td>\n",
       "    </tr>\n",
       "    <tr>\n",
       "      <td>5</td>\n",
       "      <td>NUR</td>\n",
       "      <td>School of Nursing</td>\n",
       "      <td>1201</td>\n",
       "      <td>1900</td>\n",
       "      <td>Mcdonnel</td>\n",
       "      <td>17</td>\n",
       "    </tr>\n",
       "    <tr>\n",
       "      <td>6</td>\n",
       "      <td>CPS</td>\n",
       "      <td>School of Continuing and Professional Studies</td>\n",
       "      <td>11</td>\n",
       "      <td>2001</td>\n",
       "      <td>Arrington</td>\n",
       "      <td>2</td>\n",
       "    </tr>\n",
       "    <tr>\n",
       "      <td>7</td>\n",
       "      <td>ARCH</td>\n",
       "      <td>School of Architecture</td>\n",
       "      <td>123</td>\n",
       "      <td>1989</td>\n",
       "      <td>Kim</td>\n",
       "      <td>5</td>\n",
       "    </tr>\n",
       "  </tbody>\n",
       "</table>\n",
       "</div>"
      ],
      "text/plain": [
       "  school_id                                            name  size   \\\n",
       "0      SEAS       School of Engineering and Applied Science   3589   \n",
       "1       CAS                   College of Arts and Sciences    7301   \n",
       "2       LAW                                     Law School     832   \n",
       "3       BUS                       Darden School of Business    122   \n",
       "4       COM                    Mcintire School of Commerce     357   \n",
       "5       NUR                              School of Nursing    1201   \n",
       "6       CPS  School of Continuing and Professional Studies      11   \n",
       "7      ARCH                         School of Architecture     123   \n",
       "\n",
       "   year_founded dean_chair  num_majors  \n",
       "0          1901     Rodil            9  \n",
       "1          1872  Alvarado          152  \n",
       "2          1821    Yashtz            4  \n",
       "3          1971     Sialsd           3  \n",
       "4          1923      Najir          11  \n",
       "5          1900   Mcdonnel          17  \n",
       "6          2001  Arrington           2  \n",
       "7          1989        Kim           5  "
      ]
     },
     "execution_count": 329,
     "metadata": {},
     "output_type": "execute_result"
    }
   ],
   "source": [
    "school"
   ]
  },
  {
   "cell_type": "code",
   "execution_count": 330,
   "metadata": {},
   "outputs": [],
   "source": [
    "collection = db.students"
   ]
  },
  {
   "cell_type": "code",
   "execution_count": 331,
   "metadata": {},
   "outputs": [
    {
     "name": "stdout",
     "output_type": "stream",
     "text": [
      "{'city_id': 3, 'zipcode': 15238, 'city': 'Pittsburgh', 'state': 'Pennsylvania', 'football': 'Pittsburgh Steelers', 'hockey': 'Pittsburgh Penguins', 'baseball': 'Pittsburgh Pirates', 'basketball': 'Pittsburgh Panthers', 'pop_size': '300,286'}\n"
     ]
    }
   ],
   "source": [
    "our_city = city[city['city_id'] == 3]\n",
    "\n",
    "temp_city= our_city.iloc[0]\n",
    "city_dict = {}\n",
    "for b in range(len(temp_city)):\n",
    "    city_dict[temp_city.index[b]] = temp_city[b]\n",
    "print(city_dict)\n",
    "\n",
    "# for k in range(len(city)):\n",
    "#     temp_city = city.iloc[k]\n",
    "#     print(temp_city)"
   ]
  },
  {
   "cell_type": "code",
   "execution_count": 332,
   "metadata": {},
   "outputs": [],
   "source": [
    "def makeDict(df, j):\n",
    "    temp = df[df[temp_stud.index[j]] == temp_stud[j]].iloc[0]\n",
    "    df_dict = {}\n",
    "    for b in range(len(temp)):\n",
    "        df_dict[temp.index[b]] = temp[b]\n",
    "    student_dict[temp_stud.index[j]] = df_dict\n",
    "    "
   ]
  },
  {
   "cell_type": "code",
   "execution_count": 333,
   "metadata": {},
   "outputs": [
    {
     "name": "stdout",
     "output_type": "stream",
     "text": [
      "{'computing_id': 'csksnj', 'first_name': 'Courtney', 'last_name': 'Kennedy', 'dob': '10/22/2000', 'city_id': {'city_id': 3, 'zipcode': 15238, 'city': 'Pittsburgh', 'state': 'Pennsylvania', 'football': 'Pittsburgh Steelers', 'hockey': 'Pittsburgh Penguins', 'baseball': 'Pittsburgh Pirates', 'basketball': 'Pittsburgh Panthers', 'pop_size': '300,286'}, 'course_id': {'course_id': 'SYS 2202', 'school_id': 'SEAS', 'dept': 'SYS ', 'credits': 3, 'prof_id': 7}, 'school_id': {'school_id': 'SEAS', 'name': 'School of Engineering and Applied Science', 'size ': 3589, 'year_founded': 1901, 'dean_chair': 'Rodil ', 'num_majors': 9}}\n",
      "\n",
      "\n",
      "\n",
      "\n",
      "{'computing_id': 'ztk2qv', 'first_name': 'Zachery', 'last_name': 'Key', 'dob': '6/20/2000', 'city_id': {'city_id': 4, 'zipcode': 24523, 'city': 'Bedford', 'state': 'Virginia', 'football': 'Liberty Minutemen', 'hockey': 'Bedford Beds', 'baseball': 'Bedford Bases', 'basketball': 'Bedford Baskets', 'pop_size': '6,562'}, 'course_id': {'course_id': 'ARCH 3200', 'school_id': 'ARCH', 'dept': 'ARCH ', 'credits': 3, 'prof_id': 11}, 'school_id': {'school_id': 'SEAS', 'name': 'School of Engineering and Applied Science', 'size ': 3589, 'year_founded': 1901, 'dean_chair': 'Rodil ', 'num_majors': 9}}\n",
      "\n",
      "\n",
      "\n",
      "\n",
      "{'computing_id': 'jms6vb', 'first_name': 'Jon Marco', 'last_name': 'Sanchez', 'dob': '4/20/1969', 'city_id': {'city_id': 2, 'zipcode': 24014, 'city': 'Roanoke', 'state': 'Virginia', 'football': 'Roanoke Steam', 'hockey': 'Roanoke Rail Yard Dawgs', 'baseball': 'Salem Red Sox', 'basketball': 'Roanoke Maroons', 'pop_size': '99,229'}, 'course_id': {'course_id': 'SYS 3034', 'school_id': 'SEAS', 'dept': 'SYS ', 'credits': 3, 'prof_id': 5}, 'school_id': {'school_id': 'CAS', 'name': 'College of Arts and Sciences ', 'size ': 7301, 'year_founded': 1872, 'dean_chair': 'Alvarado ', 'num_majors': 152}}\n",
      "\n",
      "\n",
      "\n",
      "\n",
      "{'computing_id': 'ac9kf', 'first_name': 'Arwen', 'last_name': 'Chandler', 'dob': '3/12/2002', 'city_id': {'city_id': 1, 'zipcode': 22031, 'city': 'Fairfax', 'state': 'Virginia', 'football': 'Fairfax Rebels', 'hockey': 'Fairfax Narwhals', 'baseball': 'Burke Bulldogs', 'basketball': 'Fairfax Foxes', 'pop_size': '23,531'}, 'course_id': {'course_id': 'KINE 1010', 'school_id': 'NUR', 'dept': 'KINE', 'credits': 1, 'prof_id': 6}, 'school_id': {'school_id': 'CAS', 'name': 'College of Arts and Sciences ', 'size ': 7301, 'year_founded': 1872, 'dean_chair': 'Alvarado ', 'num_majors': 152}}\n",
      "\n",
      "\n",
      "\n",
      "\n",
      "{'computing_id': 'tes2fl', 'first_name': 'Taylor', 'last_name': 'Swift', 'dob': '12/13/1989', 'city_id': {'city_id': 10, 'zipcode': 94016, 'city': 'San Francisco', 'state': 'California', 'football': 'San Francisco 49ers', 'hockey': 'San Francisco Seals', 'baseball': 'San Francisco Giants', 'basketball': 'Golden State Warriors', 'pop_size': '874,961'}, 'course_id': {'course_id': 'CS 2150', 'school_id': 'SEAS', 'dept': 'CS', 'credits': 3, 'prof_id': 2}, 'school_id': {'school_id': 'CAS', 'name': 'College of Arts and Sciences ', 'size ': 7301, 'year_founded': 1872, 'dean_chair': 'Alvarado ', 'num_majors': 152}}\n",
      "\n",
      "\n",
      "\n",
      "\n",
      "{'computing_id': 'jfe9fu', 'first_name': 'Joe', 'last_name': 'Exotic', 'dob': '3/5/1963', 'city_id': {'city_id': 3, 'zipcode': 15238, 'city': 'Pittsburgh', 'state': 'Pennsylvania', 'football': 'Pittsburgh Steelers', 'hockey': 'Pittsburgh Penguins', 'baseball': 'Pittsburgh Pirates', 'basketball': 'Pittsburgh Panthers', 'pop_size': '300,286'}, 'course_id': {'course_id': 'ENWR 1000', 'school_id': 'CAS', 'dept': 'ENWR', 'credits': 3, 'prof_id': 3}, 'school_id': {'school_id': 'COM', 'name': 'Mcintire School of Commerce ', 'size ': 357, 'year_founded': 1923, 'dean_chair': 'Najir', 'num_majors': 11}}\n",
      "\n",
      "\n",
      "\n",
      "\n",
      "{'computing_id': 'ggf2re', 'first_name': 'Guy', 'last_name': 'Fieri', 'dob': '1/22/1968', 'city_id': {'city_id': 7, 'zipcode': 60007, 'city': 'Chicago', 'state': 'Illinois', 'football': 'Chicago Bears', 'hockey': 'Chicago Blackhawks', 'baseball': 'Chicago Cubs', 'basketball': 'Chicago Bulls', 'pop_size': '2,693,976'}, 'course_id': {'course_id': 'SYS 2202', 'school_id': 'SEAS', 'dept': 'SYS ', 'credits': 3, 'prof_id': 7}, 'school_id': {'school_id': 'COM', 'name': 'Mcintire School of Commerce ', 'size ': 357, 'year_founded': 1923, 'dean_chair': 'Najir', 'num_majors': 11}}\n",
      "\n",
      "\n",
      "\n",
      "\n",
      "{'computing_id': 'jeb1cu', 'first_name': 'Justin', 'last_name': 'Bieber', 'dob': '3/1/1994', 'city_id': {'city_id': 13, 'zipcode': 19019, 'city': 'Philadelphia', 'state': 'Pennsylvania', 'football': 'Philadelphia Eagles', 'hockey': 'Philadelphia Flyers', 'baseball': 'Philadelphia Phillies', 'basketball': 'Philadelphia 76ers', 'pop_size': '1,526,006'}, 'course_id': {'course_id': 'SYS 2001', 'school_id': 'SEAS', 'dept': 'SYS', 'credits': 3, 'prof_id': 1}, 'school_id': {'school_id': 'NUR', 'name': 'School of Nursing ', 'size ': 1201, 'year_founded': 1900, 'dean_chair': 'Mcdonnel', 'num_majors': 17}}\n",
      "\n",
      "\n",
      "\n",
      "\n",
      "{'computing_id': 'tej9ab', 'first_name': 'Thomas', 'last_name': 'Jefferson', 'dob': '4/13/1743', 'city_id': {'city_id': 3, 'zipcode': 15238, 'city': 'Pittsburgh', 'state': 'Pennsylvania', 'football': 'Pittsburgh Steelers', 'hockey': 'Pittsburgh Penguins', 'baseball': 'Pittsburgh Pirates', 'basketball': 'Pittsburgh Panthers', 'pop_size': '300,286'}, 'course_id': {'course_id': 'CS 2150', 'school_id': 'SEAS', 'dept': 'CS', 'credits': 3, 'prof_id': 2}, 'school_id': {'school_id': 'LAW', 'name': 'Law School ', 'size ': 832, 'year_founded': 1821, 'dean_chair': 'Yashtz ', 'num_majors': 4}}\n",
      "\n",
      "\n",
      "\n",
      "\n"
     ]
    }
   ],
   "source": [
    "all_student_dicts = []\n",
    "for i in range(len(student)):\n",
    "    temp_stud = student.iloc[i]\n",
    "    student_dict = {}\n",
    "    for j in range(len(temp_stud)):\n",
    "        if temp_stud.index[j] == 'city_id':\n",
    "            makeDict(city, j)\n",
    "        elif temp_stud.index[j] == 'course_id':\n",
    "            makeDict(course,j)\n",
    "        elif temp_stud.index[j] == 'school_id':\n",
    "            makeDict(school, j)\n",
    "        else:\n",
    "            student_dict[temp_stud.index[j]] = temp_stud[j]\n",
    "    print(student_dict)\n",
    "    all_student_dicts.append(student_dict)\n",
    "    print(\"\\n\\n\\n\")"
   ]
  },
  {
   "cell_type": "code",
   "execution_count": 334,
   "metadata": {},
   "outputs": [],
   "source": [
    "def makeInnerDict(key, person_arg, innerKey, innerDf):\n",
    "    curr_dict = person_arg.get(key)\n",
    "    curr_dict_id = curr_dict.get(innerKey)\n",
    "    inner_row = innerDf.loc[innerDf[innerKey] == curr_dict_id]\n",
    "    inner_row = inner_row.squeeze()\n",
    "    inner_dictionary = inner_row.to_dict()\n",
    "    curr_dict[innerKey] = inner_dictionary\n",
    "    \n",
    "    \"\"\"curr_course_dict = person.get('course_id')\n",
    "    curr_school_id = curr_course_dict.get('school_id')\n",
    "    school_row = school.loc[school['school_id'] == curr_school_id]\n",
    "    school_row = school_row.squeeze()\n",
    "    school_dictionary = school_row.to_dict()\n",
    "    curr_course_dict['school_id'] = school_dictionary\n",
    "    print(curr_course_dict)\n",
    "    print(\"\\n\\n\")\"\"\""
   ]
  },
  {
   "cell_type": "code",
   "execution_count": 335,
   "metadata": {},
   "outputs": [
    {
     "name": "stdout",
     "output_type": "stream",
     "text": [
      "computing_id  :  csksnj\n",
      "first_name  :  Courtney\n",
      "last_name  :  Kennedy\n",
      "dob  :  10/22/2000\n",
      "city_id  :  {'city_id': 3, 'zipcode': 15238, 'city': 'Pittsburgh', 'state': 'Pennsylvania', 'football': 'Pittsburgh Steelers', 'hockey': 'Pittsburgh Penguins', 'baseball': 'Pittsburgh Pirates', 'basketball': 'Pittsburgh Panthers', 'pop_size': '300,286'}\n",
      "course_id  :  {'course_id': 'SYS 2202', 'school_id': {'school_id': 'SEAS', 'name': 'School of Engineering and Applied Science', 'size ': 3589, 'year_founded': 1901, 'dean_chair': 'Rodil ', 'num_majors': 9}, 'dept': 'SYS ', 'credits': 3, 'prof_id': {'prof_id': 7, 'prof_name': 'Reem Doryab', 'city_id': {'city_id': 8, 'zipcode': 21201, 'city': 'Baltimore', 'state': 'Maryland', 'football': 'Baltimore Ravens', 'hockey': 'Baltimore Clippers', 'baseball': 'Baltimore Orioles', 'basketball': 'Washington Wizards', 'pop_size': '609,032'}, 'school_id': {'school_id': 'SEAS', 'name': 'School of Engineering and Applied Science', 'size ': 3589, 'year_founded': 1901, 'dean_chair': 'Rodil ', 'num_majors': 9}, 'years_worked': 1, 'tenure': True, 'dept': 'SYS'}}\n",
      "school_id  :  {'school_id': 'SEAS', 'name': 'School of Engineering and Applied Science', 'size ': 3589, 'year_founded': 1901, 'dean_chair': 'Rodil ', 'num_majors': 9}\n",
      "\n",
      "\n",
      "\n"
     ]
    },
    {
     "ename": "InvalidDocument",
     "evalue": "cannot encode object: 3, of type: <class 'numpy.int64'>",
     "output_type": "error",
     "traceback": [
      "\u001b[1;31m---------------------------------------------------------------------------\u001b[0m",
      "\u001b[1;31mInvalidDocument\u001b[0m                           Traceback (most recent call last)",
      "\u001b[1;32m<ipython-input-335-ebff30ed21ee>\u001b[0m in \u001b[0;36m<module>\u001b[1;34m\u001b[0m\n\u001b[0;32m      9\u001b[0m         \u001b[0mprint\u001b[0m\u001b[1;33m(\u001b[0m\u001b[0mkey\u001b[0m\u001b[1;33m,\u001b[0m \u001b[1;34m' : '\u001b[0m\u001b[1;33m,\u001b[0m \u001b[0mvalue\u001b[0m\u001b[1;33m)\u001b[0m\u001b[1;33m\u001b[0m\u001b[1;33m\u001b[0m\u001b[0m\n\u001b[0;32m     10\u001b[0m     \u001b[0mprint\u001b[0m\u001b[1;33m(\u001b[0m\u001b[1;34m\"\\n\\n\"\u001b[0m\u001b[1;33m)\u001b[0m\u001b[1;33m\u001b[0m\u001b[1;33m\u001b[0m\u001b[0m\n\u001b[1;32m---> 11\u001b[1;33m     \u001b[0mcollection\u001b[0m\u001b[1;33m.\u001b[0m\u001b[0minsert_one\u001b[0m\u001b[1;33m(\u001b[0m\u001b[0mperson\u001b[0m\u001b[1;33m)\u001b[0m\u001b[1;33m\u001b[0m\u001b[1;33m\u001b[0m\u001b[0m\n\u001b[0m",
      "\u001b[1;32m~\\Anaconda3\\lib\\site-packages\\pymongo\\collection.py\u001b[0m in \u001b[0;36minsert_one\u001b[1;34m(self, document, bypass_document_validation, session)\u001b[0m\n\u001b[0;32m    699\u001b[0m                          \u001b[0mwrite_concern\u001b[0m\u001b[1;33m=\u001b[0m\u001b[0mwrite_concern\u001b[0m\u001b[1;33m,\u001b[0m\u001b[1;33m\u001b[0m\u001b[1;33m\u001b[0m\u001b[0m\n\u001b[0;32m    700\u001b[0m                          \u001b[0mbypass_doc_val\u001b[0m\u001b[1;33m=\u001b[0m\u001b[0mbypass_document_validation\u001b[0m\u001b[1;33m,\u001b[0m\u001b[1;33m\u001b[0m\u001b[1;33m\u001b[0m\u001b[0m\n\u001b[1;32m--> 701\u001b[1;33m                          session=session),\n\u001b[0m\u001b[0;32m    702\u001b[0m             write_concern.acknowledged)\n\u001b[0;32m    703\u001b[0m \u001b[1;33m\u001b[0m\u001b[0m\n",
      "\u001b[1;32m~\\Anaconda3\\lib\\site-packages\\pymongo\\collection.py\u001b[0m in \u001b[0;36m_insert\u001b[1;34m(self, docs, ordered, check_keys, manipulate, write_concern, op_id, bypass_doc_val, session)\u001b[0m\n\u001b[0;32m    613\u001b[0m             return self._insert_one(\n\u001b[0;32m    614\u001b[0m                 \u001b[0mdocs\u001b[0m\u001b[1;33m,\u001b[0m \u001b[0mordered\u001b[0m\u001b[1;33m,\u001b[0m \u001b[0mcheck_keys\u001b[0m\u001b[1;33m,\u001b[0m \u001b[0mmanipulate\u001b[0m\u001b[1;33m,\u001b[0m \u001b[0mwrite_concern\u001b[0m\u001b[1;33m,\u001b[0m \u001b[0mop_id\u001b[0m\u001b[1;33m,\u001b[0m\u001b[1;33m\u001b[0m\u001b[1;33m\u001b[0m\u001b[0m\n\u001b[1;32m--> 615\u001b[1;33m                 bypass_doc_val, session)\n\u001b[0m\u001b[0;32m    616\u001b[0m \u001b[1;33m\u001b[0m\u001b[0m\n\u001b[0;32m    617\u001b[0m         \u001b[0mids\u001b[0m \u001b[1;33m=\u001b[0m \u001b[1;33m[\u001b[0m\u001b[1;33m]\u001b[0m\u001b[1;33m\u001b[0m\u001b[1;33m\u001b[0m\u001b[0m\n",
      "\u001b[1;32m~\\Anaconda3\\lib\\site-packages\\pymongo\\collection.py\u001b[0m in \u001b[0;36m_insert_one\u001b[1;34m(self, doc, ordered, check_keys, manipulate, write_concern, op_id, bypass_doc_val, session)\u001b[0m\n\u001b[0;32m    601\u001b[0m \u001b[1;33m\u001b[0m\u001b[0m\n\u001b[0;32m    602\u001b[0m         self.__database.client._retryable_write(\n\u001b[1;32m--> 603\u001b[1;33m             acknowledged, _insert_command, session)\n\u001b[0m\u001b[0;32m    604\u001b[0m \u001b[1;33m\u001b[0m\u001b[0m\n\u001b[0;32m    605\u001b[0m         \u001b[1;32mif\u001b[0m \u001b[1;32mnot\u001b[0m \u001b[0misinstance\u001b[0m\u001b[1;33m(\u001b[0m\u001b[0mdoc\u001b[0m\u001b[1;33m,\u001b[0m \u001b[0mRawBSONDocument\u001b[0m\u001b[1;33m)\u001b[0m\u001b[1;33m:\u001b[0m\u001b[1;33m\u001b[0m\u001b[1;33m\u001b[0m\u001b[0m\n",
      "\u001b[1;32m~\\Anaconda3\\lib\\site-packages\\pymongo\\mongo_client.py\u001b[0m in \u001b[0;36m_retryable_write\u001b[1;34m(self, retryable, func, session)\u001b[0m\n\u001b[0;32m   1496\u001b[0m         \u001b[1;34m\"\"\"Internal retryable write helper.\"\"\"\u001b[0m\u001b[1;33m\u001b[0m\u001b[1;33m\u001b[0m\u001b[0m\n\u001b[0;32m   1497\u001b[0m         \u001b[1;32mwith\u001b[0m \u001b[0mself\u001b[0m\u001b[1;33m.\u001b[0m\u001b[0m_tmp_session\u001b[0m\u001b[1;33m(\u001b[0m\u001b[0msession\u001b[0m\u001b[1;33m)\u001b[0m \u001b[1;32mas\u001b[0m \u001b[0ms\u001b[0m\u001b[1;33m:\u001b[0m\u001b[1;33m\u001b[0m\u001b[1;33m\u001b[0m\u001b[0m\n\u001b[1;32m-> 1498\u001b[1;33m             \u001b[1;32mreturn\u001b[0m \u001b[0mself\u001b[0m\u001b[1;33m.\u001b[0m\u001b[0m_retry_with_session\u001b[0m\u001b[1;33m(\u001b[0m\u001b[0mretryable\u001b[0m\u001b[1;33m,\u001b[0m \u001b[0mfunc\u001b[0m\u001b[1;33m,\u001b[0m \u001b[0ms\u001b[0m\u001b[1;33m,\u001b[0m \u001b[1;32mNone\u001b[0m\u001b[1;33m)\u001b[0m\u001b[1;33m\u001b[0m\u001b[1;33m\u001b[0m\u001b[0m\n\u001b[0m\u001b[0;32m   1499\u001b[0m \u001b[1;33m\u001b[0m\u001b[0m\n\u001b[0;32m   1500\u001b[0m     \u001b[1;32mdef\u001b[0m \u001b[0m_handle_getlasterror\u001b[0m\u001b[1;33m(\u001b[0m\u001b[0mself\u001b[0m\u001b[1;33m,\u001b[0m \u001b[0maddress\u001b[0m\u001b[1;33m,\u001b[0m \u001b[0merror_msg\u001b[0m\u001b[1;33m)\u001b[0m\u001b[1;33m:\u001b[0m\u001b[1;33m\u001b[0m\u001b[1;33m\u001b[0m\u001b[0m\n",
      "\u001b[1;32m~\\Anaconda3\\lib\\site-packages\\pymongo\\mongo_client.py\u001b[0m in \u001b[0;36m_retry_with_session\u001b[1;34m(self, retryable, func, session, bulk)\u001b[0m\n\u001b[0;32m   1382\u001b[0m         retryable = (retryable and self.retry_writes\n\u001b[0;32m   1383\u001b[0m                      and session and not session.in_transaction)\n\u001b[1;32m-> 1384\u001b[1;33m         \u001b[1;32mreturn\u001b[0m \u001b[0mself\u001b[0m\u001b[1;33m.\u001b[0m\u001b[0m_retry_internal\u001b[0m\u001b[1;33m(\u001b[0m\u001b[0mretryable\u001b[0m\u001b[1;33m,\u001b[0m \u001b[0mfunc\u001b[0m\u001b[1;33m,\u001b[0m \u001b[0msession\u001b[0m\u001b[1;33m,\u001b[0m \u001b[0mbulk\u001b[0m\u001b[1;33m)\u001b[0m\u001b[1;33m\u001b[0m\u001b[1;33m\u001b[0m\u001b[0m\n\u001b[0m\u001b[0;32m   1385\u001b[0m \u001b[1;33m\u001b[0m\u001b[0m\n\u001b[0;32m   1386\u001b[0m     \u001b[1;32mdef\u001b[0m \u001b[0m_retry_internal\u001b[0m\u001b[1;33m(\u001b[0m\u001b[0mself\u001b[0m\u001b[1;33m,\u001b[0m \u001b[0mretryable\u001b[0m\u001b[1;33m,\u001b[0m \u001b[0mfunc\u001b[0m\u001b[1;33m,\u001b[0m \u001b[0msession\u001b[0m\u001b[1;33m,\u001b[0m \u001b[0mbulk\u001b[0m\u001b[1;33m)\u001b[0m\u001b[1;33m:\u001b[0m\u001b[1;33m\u001b[0m\u001b[1;33m\u001b[0m\u001b[0m\n",
      "\u001b[1;32m~\\Anaconda3\\lib\\site-packages\\pymongo\\mongo_client.py\u001b[0m in \u001b[0;36m_retry_internal\u001b[1;34m(self, retryable, func, session, bulk)\u001b[0m\n\u001b[0;32m   1414\u001b[0m                             \u001b[1;32mraise\u001b[0m \u001b[0mlast_error\u001b[0m\u001b[1;33m\u001b[0m\u001b[1;33m\u001b[0m\u001b[0m\n\u001b[0;32m   1415\u001b[0m                         \u001b[0mretryable\u001b[0m \u001b[1;33m=\u001b[0m \u001b[1;32mFalse\u001b[0m\u001b[1;33m\u001b[0m\u001b[1;33m\u001b[0m\u001b[0m\n\u001b[1;32m-> 1416\u001b[1;33m                     \u001b[1;32mreturn\u001b[0m \u001b[0mfunc\u001b[0m\u001b[1;33m(\u001b[0m\u001b[0msession\u001b[0m\u001b[1;33m,\u001b[0m \u001b[0msock_info\u001b[0m\u001b[1;33m,\u001b[0m \u001b[0mretryable\u001b[0m\u001b[1;33m)\u001b[0m\u001b[1;33m\u001b[0m\u001b[1;33m\u001b[0m\u001b[0m\n\u001b[0m\u001b[0;32m   1417\u001b[0m             \u001b[1;32mexcept\u001b[0m \u001b[0mServerSelectionTimeoutError\u001b[0m\u001b[1;33m:\u001b[0m\u001b[1;33m\u001b[0m\u001b[1;33m\u001b[0m\u001b[0m\n\u001b[0;32m   1418\u001b[0m                 \u001b[1;32mif\u001b[0m \u001b[0mis_retrying\u001b[0m\u001b[1;33m(\u001b[0m\u001b[1;33m)\u001b[0m\u001b[1;33m:\u001b[0m\u001b[1;33m\u001b[0m\u001b[1;33m\u001b[0m\u001b[0m\n",
      "\u001b[1;32m~\\Anaconda3\\lib\\site-packages\\pymongo\\collection.py\u001b[0m in \u001b[0;36m_insert_command\u001b[1;34m(session, sock_info, retryable_write)\u001b[0m\n\u001b[0;32m    596\u001b[0m                 \u001b[0msession\u001b[0m\u001b[1;33m=\u001b[0m\u001b[0msession\u001b[0m\u001b[1;33m,\u001b[0m\u001b[1;33m\u001b[0m\u001b[1;33m\u001b[0m\u001b[0m\n\u001b[0;32m    597\u001b[0m                 \u001b[0mclient\u001b[0m\u001b[1;33m=\u001b[0m\u001b[0mself\u001b[0m\u001b[1;33m.\u001b[0m\u001b[0m__database\u001b[0m\u001b[1;33m.\u001b[0m\u001b[0mclient\u001b[0m\u001b[1;33m,\u001b[0m\u001b[1;33m\u001b[0m\u001b[1;33m\u001b[0m\u001b[0m\n\u001b[1;32m--> 598\u001b[1;33m                 retryable_write=retryable_write)\n\u001b[0m\u001b[0;32m    599\u001b[0m \u001b[1;33m\u001b[0m\u001b[0m\n\u001b[0;32m    600\u001b[0m             \u001b[0m_check_write_command_response\u001b[0m\u001b[1;33m(\u001b[0m\u001b[0mresult\u001b[0m\u001b[1;33m)\u001b[0m\u001b[1;33m\u001b[0m\u001b[1;33m\u001b[0m\u001b[0m\n",
      "\u001b[1;32m~\\Anaconda3\\lib\\site-packages\\pymongo\\pool.py\u001b[0m in \u001b[0;36mcommand\u001b[1;34m(self, dbname, spec, slave_ok, read_preference, codec_options, check, allowable_errors, check_keys, read_concern, write_concern, parse_write_concern_error, collation, session, client, retryable_write, publish_events, user_fields, exhaust_allowed)\u001b[0m\n\u001b[0;32m    697\u001b[0m         \u001b[1;31m# Catch socket.error, KeyboardInterrupt, etc. and close ourselves.\u001b[0m\u001b[1;33m\u001b[0m\u001b[1;33m\u001b[0m\u001b[1;33m\u001b[0m\u001b[0m\n\u001b[0;32m    698\u001b[0m         \u001b[1;32mexcept\u001b[0m \u001b[0mBaseException\u001b[0m \u001b[1;32mas\u001b[0m \u001b[0merror\u001b[0m\u001b[1;33m:\u001b[0m\u001b[1;33m\u001b[0m\u001b[1;33m\u001b[0m\u001b[0m\n\u001b[1;32m--> 699\u001b[1;33m             \u001b[0mself\u001b[0m\u001b[1;33m.\u001b[0m\u001b[0m_raise_connection_failure\u001b[0m\u001b[1;33m(\u001b[0m\u001b[0merror\u001b[0m\u001b[1;33m)\u001b[0m\u001b[1;33m\u001b[0m\u001b[1;33m\u001b[0m\u001b[0m\n\u001b[0m\u001b[0;32m    700\u001b[0m \u001b[1;33m\u001b[0m\u001b[0m\n\u001b[0;32m    701\u001b[0m     \u001b[1;32mdef\u001b[0m \u001b[0msend_message\u001b[0m\u001b[1;33m(\u001b[0m\u001b[0mself\u001b[0m\u001b[1;33m,\u001b[0m \u001b[0mmessage\u001b[0m\u001b[1;33m,\u001b[0m \u001b[0mmax_doc_size\u001b[0m\u001b[1;33m)\u001b[0m\u001b[1;33m:\u001b[0m\u001b[1;33m\u001b[0m\u001b[1;33m\u001b[0m\u001b[0m\n",
      "\u001b[1;32m~\\Anaconda3\\lib\\site-packages\\pymongo\\pool.py\u001b[0m in \u001b[0;36mcommand\u001b[1;34m(self, dbname, spec, slave_ok, read_preference, codec_options, check, allowable_errors, check_keys, read_concern, write_concern, parse_write_concern_error, collation, session, client, retryable_write, publish_events, user_fields, exhaust_allowed)\u001b[0m\n\u001b[0;32m    692\u001b[0m                            \u001b[0munacknowledged\u001b[0m\u001b[1;33m=\u001b[0m\u001b[0munacknowledged\u001b[0m\u001b[1;33m,\u001b[0m\u001b[1;33m\u001b[0m\u001b[1;33m\u001b[0m\u001b[0m\n\u001b[0;32m    693\u001b[0m                            \u001b[0muser_fields\u001b[0m\u001b[1;33m=\u001b[0m\u001b[0muser_fields\u001b[0m\u001b[1;33m,\u001b[0m\u001b[1;33m\u001b[0m\u001b[1;33m\u001b[0m\u001b[0m\n\u001b[1;32m--> 694\u001b[1;33m                            exhaust_allowed=exhaust_allowed)\n\u001b[0m\u001b[0;32m    695\u001b[0m         \u001b[1;32mexcept\u001b[0m \u001b[0mOperationFailure\u001b[0m\u001b[1;33m:\u001b[0m\u001b[1;33m\u001b[0m\u001b[1;33m\u001b[0m\u001b[0m\n\u001b[0;32m    696\u001b[0m             \u001b[1;32mraise\u001b[0m\u001b[1;33m\u001b[0m\u001b[1;33m\u001b[0m\u001b[0m\n",
      "\u001b[1;32m~\\Anaconda3\\lib\\site-packages\\pymongo\\network.py\u001b[0m in \u001b[0;36mcommand\u001b[1;34m(sock_info, dbname, spec, slave_ok, is_mongos, read_preference, codec_options, session, client, check, allowable_errors, address, check_keys, listeners, max_bson_size, read_concern, parse_write_concern_error, collation, compression_ctx, use_op_msg, unacknowledged, user_fields, exhaust_allowed)\u001b[0m\n\u001b[0;32m    120\u001b[0m         request_id, msg, size, max_doc_size = message._op_msg(\n\u001b[0;32m    121\u001b[0m             \u001b[0mflags\u001b[0m\u001b[1;33m,\u001b[0m \u001b[0mspec\u001b[0m\u001b[1;33m,\u001b[0m \u001b[0mdbname\u001b[0m\u001b[1;33m,\u001b[0m \u001b[0mread_preference\u001b[0m\u001b[1;33m,\u001b[0m \u001b[0mslave_ok\u001b[0m\u001b[1;33m,\u001b[0m \u001b[0mcheck_keys\u001b[0m\u001b[1;33m,\u001b[0m\u001b[1;33m\u001b[0m\u001b[1;33m\u001b[0m\u001b[0m\n\u001b[1;32m--> 122\u001b[1;33m             codec_options, ctx=compression_ctx)\n\u001b[0m\u001b[0;32m    123\u001b[0m         \u001b[1;31m# If this is an unacknowledged write then make sure the encoded doc(s)\u001b[0m\u001b[1;33m\u001b[0m\u001b[1;33m\u001b[0m\u001b[1;33m\u001b[0m\u001b[0m\n\u001b[0;32m    124\u001b[0m         \u001b[1;31m# are small enough, otherwise rely on the server to return an error.\u001b[0m\u001b[1;33m\u001b[0m\u001b[1;33m\u001b[0m\u001b[1;33m\u001b[0m\u001b[0m\n",
      "\u001b[1;32m~\\Anaconda3\\lib\\site-packages\\pymongo\\message.py\u001b[0m in \u001b[0;36m_op_msg\u001b[1;34m(flags, command, dbname, read_preference, slave_ok, check_keys, opts, ctx)\u001b[0m\n\u001b[0;32m    713\u001b[0m                 flags, command, identifier, docs, check_keys, opts, ctx)\n\u001b[0;32m    714\u001b[0m         return _op_msg_uncompressed(\n\u001b[1;32m--> 715\u001b[1;33m             flags, command, identifier, docs, check_keys, opts)\n\u001b[0m\u001b[0;32m    716\u001b[0m     \u001b[1;32mfinally\u001b[0m\u001b[1;33m:\u001b[0m\u001b[1;33m\u001b[0m\u001b[1;33m\u001b[0m\u001b[0m\n\u001b[0;32m    717\u001b[0m         \u001b[1;31m# Add the field back to the command.\u001b[0m\u001b[1;33m\u001b[0m\u001b[1;33m\u001b[0m\u001b[1;33m\u001b[0m\u001b[0m\n",
      "\u001b[1;31mInvalidDocument\u001b[0m: cannot encode object: 3, of type: <class 'numpy.int64'>"
     ]
    }
   ],
   "source": [
    "for person in all_student_dicts:\n",
    "    makeInnerDict('course_id', person, 'school_id', school)\n",
    "    makeInnerDict('course_id', person, 'prof_id', prof)\n",
    "    curr_prof = person.get('course_id')\n",
    "    makeInnerDict('prof_id', curr_prof, 'school_id', school)\n",
    "    makeInnerDict('prof_id', curr_prof, 'city_id', city)\n",
    "    #print(smth)\n",
    "    for key, value in person.items():\n",
    "        print(key, ' : ', value)\n",
    "    print(\"\\n\\n\")\n",
    "    collection.insert_one(person)"
   ]
  }
 ],
 "metadata": {
  "kernelspec": {
   "display_name": "Python 3",
   "language": "python",
   "name": "python3"
  },
  "language_info": {
   "codemirror_mode": {
    "name": "ipython",
    "version": 3
   },
   "file_extension": ".py",
   "mimetype": "text/x-python",
   "name": "python",
   "nbconvert_exporter": "python",
   "pygments_lexer": "ipython3",
   "version": "3.7.4"
  }
 },
 "nbformat": 4,
 "nbformat_minor": 4
}
